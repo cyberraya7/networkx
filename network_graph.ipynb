{
 "cells": [
  {
   "cell_type": "markdown",
   "id": "6d245cf2-2b91-4a7d-a042-d894ce0b2fba",
   "metadata": {},
   "source": [
    "### Install dependencies"
   ]
  },
  {
   "cell_type": "code",
   "execution_count": 1,
   "id": "593a186c-8f5c-481d-819d-fe8f101254c5",
   "metadata": {},
   "outputs": [
    {
     "name": "stdout",
     "output_type": "stream",
     "text": [
      "Requirement already satisfied: pyvis in /Users/mannitor/opt/anaconda3/lib/python3.9/site-packages (0.3.2)\n",
      "Requirement already satisfied: networkx in /Users/mannitor/opt/anaconda3/lib/python3.9/site-packages (3.1)\n",
      "Requirement already satisfied: pandas in /Users/mannitor/opt/anaconda3/lib/python3.9/site-packages (1.3.4)\n",
      "Requirement already satisfied: numpy in /Users/mannitor/opt/anaconda3/lib/python3.9/site-packages (1.26.4)\n",
      "Requirement already satisfied: ipython>=5.3.0 in /Users/mannitor/opt/anaconda3/lib/python3.9/site-packages (from pyvis) (7.29.0)\n",
      "Requirement already satisfied: jsonpickle>=1.4.1 in /Users/mannitor/opt/anaconda3/lib/python3.9/site-packages (from pyvis) (4.0.5)\n",
      "Requirement already satisfied: jinja2>=2.9.6 in /Users/mannitor/opt/anaconda3/lib/python3.9/site-packages (from pyvis) (2.11.3)\n",
      "Requirement already satisfied: python-dateutil>=2.7.3 in /Users/mannitor/opt/anaconda3/lib/python3.9/site-packages (from pandas) (2.8.2)\n",
      "Requirement already satisfied: pytz>=2017.3 in /Users/mannitor/opt/anaconda3/lib/python3.9/site-packages (from pandas) (2021.3)\n",
      "Requirement already satisfied: jedi>=0.16 in /Users/mannitor/opt/anaconda3/lib/python3.9/site-packages (from ipython>=5.3.0->pyvis) (0.18.0)\n",
      "Requirement already satisfied: prompt-toolkit!=3.0.0,!=3.0.1,<3.1.0,>=2.0.0 in /Users/mannitor/opt/anaconda3/lib/python3.9/site-packages (from ipython>=5.3.0->pyvis) (3.0.20)\n",
      "Requirement already satisfied: appnope in /Users/mannitor/opt/anaconda3/lib/python3.9/site-packages (from ipython>=5.3.0->pyvis) (0.1.2)\n",
      "Requirement already satisfied: traitlets>=4.2 in /Users/mannitor/opt/anaconda3/lib/python3.9/site-packages (from ipython>=5.3.0->pyvis) (5.1.0)\n",
      "Requirement already satisfied: pexpect>4.3 in /Users/mannitor/opt/anaconda3/lib/python3.9/site-packages (from ipython>=5.3.0->pyvis) (4.8.0)\n",
      "Requirement already satisfied: decorator in /Users/mannitor/opt/anaconda3/lib/python3.9/site-packages (from ipython>=5.3.0->pyvis) (5.1.1)\n",
      "Requirement already satisfied: pickleshare in /Users/mannitor/opt/anaconda3/lib/python3.9/site-packages (from ipython>=5.3.0->pyvis) (0.7.5)\n",
      "Requirement already satisfied: pygments in /Users/mannitor/opt/anaconda3/lib/python3.9/site-packages (from ipython>=5.3.0->pyvis) (2.10.0)\n",
      "Requirement already satisfied: setuptools>=18.5 in /Users/mannitor/opt/anaconda3/lib/python3.9/site-packages (from ipython>=5.3.0->pyvis) (58.0.4)\n",
      "Requirement already satisfied: matplotlib-inline in /Users/mannitor/opt/anaconda3/lib/python3.9/site-packages (from ipython>=5.3.0->pyvis) (0.1.2)\n",
      "Requirement already satisfied: backcall in /Users/mannitor/opt/anaconda3/lib/python3.9/site-packages (from ipython>=5.3.0->pyvis) (0.2.0)\n",
      "Requirement already satisfied: parso<0.9.0,>=0.8.0 in /Users/mannitor/opt/anaconda3/lib/python3.9/site-packages (from jedi>=0.16->ipython>=5.3.0->pyvis) (0.8.2)\n",
      "Requirement already satisfied: MarkupSafe>=0.23 in /Users/mannitor/opt/anaconda3/lib/python3.9/site-packages (from jinja2>=2.9.6->pyvis) (1.1.1)\n",
      "Requirement already satisfied: ptyprocess>=0.5 in /Users/mannitor/opt/anaconda3/lib/python3.9/site-packages (from pexpect>4.3->ipython>=5.3.0->pyvis) (0.7.0)\n",
      "Requirement already satisfied: wcwidth in /Users/mannitor/opt/anaconda3/lib/python3.9/site-packages (from prompt-toolkit!=3.0.0,!=3.0.1,<3.1.0,>=2.0.0->ipython>=5.3.0->pyvis) (0.2.5)\n",
      "Requirement already satisfied: six>=1.5 in /Users/mannitor/opt/anaconda3/lib/python3.9/site-packages (from python-dateutil>=2.7.3->pandas) (1.16.0)\n"
     ]
    }
   ],
   "source": [
    "!pip install pyvis pandas numpy networkx"
   ]
  },
  {
   "cell_type": "markdown",
   "id": "fef5a759-67ff-4d02-9ced-1943cd0b72ed",
   "metadata": {},
   "source": [
    "### Import Module"
   ]
  },
  {
   "cell_type": "code",
   "execution_count": 4,
   "id": "4d2e4da9-c069-461a-a56a-80d4a291b057",
   "metadata": {},
   "outputs": [],
   "source": [
    "import pandas as pd\n",
    "import numpy as np\n",
    "from pyvis.network import Network\n",
    "import networkx as nx"
   ]
  },
  {
   "cell_type": "markdown",
   "id": "402728a7-c7cc-4f8c-b13e-580480da0003",
   "metadata": {},
   "source": [
    "### Load file into df\n"
   ]
  },
  {
   "cell_type": "code",
   "execution_count": 5,
   "id": "9a223864-71d2-465f-8af8-b265f58d9e23",
   "metadata": {},
   "outputs": [
    {
     "data": {
      "text/html": [
       "<div>\n",
       "<style scoped>\n",
       "    .dataframe tbody tr th:only-of-type {\n",
       "        vertical-align: middle;\n",
       "    }\n",
       "\n",
       "    .dataframe tbody tr th {\n",
       "        vertical-align: top;\n",
       "    }\n",
       "\n",
       "    .dataframe thead th {\n",
       "        text-align: right;\n",
       "    }\n",
       "</style>\n",
       "<table border=\"1\" class=\"dataframe\">\n",
       "  <thead>\n",
       "    <tr style=\"text-align: right;\">\n",
       "      <th></th>\n",
       "      <th>ID</th>\n",
       "      <th>Year</th>\n",
       "      <th>Name</th>\n",
       "      <th>Type</th>\n",
       "      <th>Origin</th>\n",
       "      <th>Country</th>\n",
       "    </tr>\n",
       "  </thead>\n",
       "  <tbody>\n",
       "    <tr>\n",
       "      <th>0</th>\n",
       "      <td>1</td>\n",
       "      <td>2020</td>\n",
       "      <td>Hanwha Tigon</td>\n",
       "      <td>6x6 Wheeled Armored Personnel Carrier (APC)</td>\n",
       "      <td>South Korea</td>\n",
       "      <td>Malaysia</td>\n",
       "    </tr>\n",
       "    <tr>\n",
       "      <th>1</th>\n",
       "      <td>2</td>\n",
       "      <td>2005</td>\n",
       "      <td>FNSS PARS (Anatolian Leopard)</td>\n",
       "      <td>6x6 / 8x8 Armored Personnel Carrier (APC)</td>\n",
       "      <td>Turkey</td>\n",
       "      <td>Malaysia</td>\n",
       "    </tr>\n",
       "    <tr>\n",
       "      <th>2</th>\n",
       "      <td>3</td>\n",
       "      <td>1998</td>\n",
       "      <td>URO VAMTAC</td>\n",
       "      <td>Multirole / Multipurpose Military Vehicle</td>\n",
       "      <td>Spain</td>\n",
       "      <td>Malaysia</td>\n",
       "    </tr>\n",
       "    <tr>\n",
       "      <th>3</th>\n",
       "      <td>4</td>\n",
       "      <td>1995</td>\n",
       "      <td>PT-91 Twardy</td>\n",
       "      <td>Main Battle Tank (MBT)</td>\n",
       "      <td>Poland</td>\n",
       "      <td>Malaysia</td>\n",
       "    </tr>\n",
       "    <tr>\n",
       "      <th>4</th>\n",
       "      <td>5</td>\n",
       "      <td>1992</td>\n",
       "      <td>FNSS ACV-15</td>\n",
       "      <td>Infantry Fighting Vehicle (IFV) / Armored Pers...</td>\n",
       "      <td>Turkey</td>\n",
       "      <td>Malaysia</td>\n",
       "    </tr>\n",
       "    <tr>\n",
       "      <th>...</th>\n",
       "      <td>...</td>\n",
       "      <td>...</td>\n",
       "      <td>...</td>\n",
       "      <td>...</td>\n",
       "      <td>...</td>\n",
       "      <td>...</td>\n",
       "    </tr>\n",
       "    <tr>\n",
       "      <th>886</th>\n",
       "      <td>29</td>\n",
       "      <td>1945</td>\n",
       "      <td>Centurion (A41)</td>\n",
       "      <td>Main Battle Tank (MBT)</td>\n",
       "      <td>NaN</td>\n",
       "      <td>Thailand</td>\n",
       "    </tr>\n",
       "    <tr>\n",
       "      <th>887</th>\n",
       "      <td>30</td>\n",
       "      <td>1941</td>\n",
       "      <td>M114 155mm (155mm Howitzer M1)</td>\n",
       "      <td>Towed 155mm Heavy Howitzer</td>\n",
       "      <td>NaN</td>\n",
       "      <td>Thailand</td>\n",
       "    </tr>\n",
       "    <tr>\n",
       "      <th>888</th>\n",
       "      <td>31</td>\n",
       "      <td>1939</td>\n",
       "      <td>M-30 (Model 1938)</td>\n",
       "      <td>122mm Towed Field Howitzer</td>\n",
       "      <td>NaN</td>\n",
       "      <td>Thailand</td>\n",
       "    </tr>\n",
       "    <tr>\n",
       "      <th>889</th>\n",
       "      <td>32</td>\n",
       "      <td>1932</td>\n",
       "      <td>Bofors 40mm (Series)</td>\n",
       "      <td>Towed Anti-Aircraft Gun / Air Defense Gun</td>\n",
       "      <td>NaN</td>\n",
       "      <td>Thailand</td>\n",
       "    </tr>\n",
       "    <tr>\n",
       "      <th>890</th>\n",
       "      <td>33</td>\n",
       "      <td>1929</td>\n",
       "      <td>Lanchester Armored Car (6x4)</td>\n",
       "      <td>Six-Wheeled Light Armored Fighting Vehicle (AFV)</td>\n",
       "      <td>NaN</td>\n",
       "      <td>Thailand</td>\n",
       "    </tr>\n",
       "  </tbody>\n",
       "</table>\n",
       "<p>891 rows × 6 columns</p>\n",
       "</div>"
      ],
      "text/plain": [
       "     ID  Year                            Name  \\\n",
       "0     1  2020                    Hanwha Tigon   \n",
       "1     2  2005   FNSS PARS (Anatolian Leopard)   \n",
       "2     3  1998                      URO VAMTAC   \n",
       "3     4  1995                    PT-91 Twardy   \n",
       "4     5  1992                     FNSS ACV-15   \n",
       "..   ..   ...                             ...   \n",
       "886  29  1945                 Centurion (A41)   \n",
       "887  30  1941  M114 155mm (155mm Howitzer M1)   \n",
       "888  31  1939               M-30 (Model 1938)   \n",
       "889  32  1932            Bofors 40mm (Series)   \n",
       "890  33  1929    Lanchester Armored Car (6x4)   \n",
       "\n",
       "                                                  Type       Origin   Country  \n",
       "0          6x6 Wheeled Armored Personnel Carrier (APC)  South Korea  Malaysia  \n",
       "1            6x6 / 8x8 Armored Personnel Carrier (APC)       Turkey  Malaysia  \n",
       "2            Multirole / Multipurpose Military Vehicle        Spain  Malaysia  \n",
       "3                               Main Battle Tank (MBT)       Poland  Malaysia  \n",
       "4    Infantry Fighting Vehicle (IFV) / Armored Pers...       Turkey  Malaysia  \n",
       "..                                                 ...          ...       ...  \n",
       "886                             Main Battle Tank (MBT)          NaN  Thailand  \n",
       "887                         Towed 155mm Heavy Howitzer          NaN  Thailand  \n",
       "888                         122mm Towed Field Howitzer          NaN  Thailand  \n",
       "889          Towed Anti-Aircraft Gun / Air Defense Gun          NaN  Thailand  \n",
       "890   Six-Wheeled Light Armored Fighting Vehicle (AFV)          NaN  Thailand  \n",
       "\n",
       "[891 rows x 6 columns]"
      ]
     },
     "execution_count": 5,
     "metadata": {},
     "output_type": "execute_result"
    }
   ],
   "source": [
    "df = pd.read_csv(\"data/mil_asset.csv\") \n",
    "df"
   ]
  },
  {
   "cell_type": "markdown",
   "id": "647445b5-5a99-41a8-84d7-159cd0acc22f",
   "metadata": {},
   "source": [
    "### Pyvis Interactive Network Graph"
   ]
  },
  {
   "cell_type": "code",
   "execution_count": 15,
   "id": "b230c880-1aa8-48d2-a31d-a1e6c1aca475",
   "metadata": {
    "scrolled": true
   },
   "outputs": [
    {
     "name": "stdout",
     "output_type": "stream",
     "text": [
      "Warning: When  cdn_resources is 'local' jupyter notebook has issues displaying graphics on chrome/safari. Use cdn_resources='in_line' or cdn_resources='remote' if you have issues viewing graphics in a notebook.\n",
      "mil_graph.html\n"
     ]
    },
    {
     "data": {
      "text/html": [
       "\n",
       "        <iframe\n",
       "            width=\"1000px\"\n",
       "            height=\"700px\"\n",
       "            src=\"mil_graph.html\"\n",
       "            frameborder=\"0\"\n",
       "            allowfullscreen\n",
       "            \n",
       "        ></iframe>\n",
       "        "
      ],
      "text/plain": [
       "<IPython.lib.display.IFrame at 0x7f8f0082d6d0>"
      ]
     },
     "execution_count": 15,
     "metadata": {},
     "output_type": "execute_result"
    }
   ],
   "source": [
    "df = df.dropna(subset=['Country', 'Origin'])  # Drop rows with NaNs\n",
    "df['Origin'] = df['Origin'].astype(str)\n",
    "df['Country'] = df['Country'].astype(str)\n",
    "\n",
    "\n",
    "# Assuming df already loaded and processed correctly\n",
    "mil_graph = nx.from_pandas_edgelist(df, source='Country', target='Origin', create_using=nx.DiGraph())\n",
    "\n",
    "# Add labels to the nodes\n",
    "for node in mil_graph.nodes():\n",
    "    mil_graph.nodes[node]['label'] = str(node)\n",
    "\n",
    "# Initialize PyVis network\n",
    "net = Network(notebook=True, \n",
    "              width='1000px', \n",
    "              height='700px', \n",
    "              bgcolor='#222222', \n",
    "              font_color='white',\n",
    "              directed=True)\n",
    "\n",
    "\n",
    "\n",
    "\n",
    "# Load the graph\n",
    "net.from_nx(mil_graph)\n",
    "\n",
    "# Save and show\n",
    "net.show('mil_graph.html')\n"
   ]
  },
  {
   "cell_type": "markdown",
   "id": "38ff6d69-68ef-4ac1-905f-673f5dfbfe4d",
   "metadata": {},
   "source": [
    "### Add Filter Menu"
   ]
  },
  {
   "cell_type": "code",
   "execution_count": 16,
   "id": "2dfe2cf4-d3e1-4161-b821-c95dcdc7a2f9",
   "metadata": {},
   "outputs": [
    {
     "name": "stdout",
     "output_type": "stream",
     "text": [
      "mil_graph.html\n"
     ]
    },
    {
     "data": {
      "text/html": [
       "\n",
       "        <iframe\n",
       "            width=\"1000px\"\n",
       "            height=\"700px\"\n",
       "            src=\"mil_graph.html\"\n",
       "            frameborder=\"0\"\n",
       "            allowfullscreen\n",
       "            \n",
       "        ></iframe>\n",
       "        "
      ],
      "text/plain": [
       "<IPython.lib.display.IFrame at 0x7f8ee241e4c0>"
      ]
     },
     "execution_count": 16,
     "metadata": {},
     "output_type": "execute_result"
    }
   ],
   "source": [
    "df = df.dropna(subset=['Country', 'Origin'])  # Drop rows with NaNs\n",
    "df['Origin'] = df['Origin'].astype(str)\n",
    "df['Country'] = df['Country'].astype(str)\n",
    "\n",
    "\n",
    "# Assuming df already loaded and processed correctly\n",
    "mil_graph = nx.from_pandas_edgelist(df, source='Country', target='Origin', create_using=nx.DiGraph())\n",
    "\n",
    "# Add labels to the nodes\n",
    "for node in mil_graph.nodes():\n",
    "    mil_graph.nodes[node]['label'] = str(node)\n",
    "\n",
    "# Initialize PyVis network\n",
    "net = Network(notebook=True, \n",
    "              width='1000px', \n",
    "              height='700px', \n",
    "              bgcolor='#222222', \n",
    "              font_color='white',\n",
    "              directed=True,\n",
    "              select_menu=True,\n",
    "              cdn_resources='remote',\n",
    "              filter_menu=True,\n",
    "              )\n",
    "\n",
    "\n",
    "\n",
    "# Load the graph\n",
    "net.from_nx(mil_graph)\n",
    "\n",
    "# Save and show\n",
    "net.show('mil_graph.html')\n",
    "\n",
    "\n",
    "\n",
    "\n"
   ]
  },
  {
   "cell_type": "markdown",
   "id": "63592f2c-fe61-4843-9817-ade41e858172",
   "metadata": {},
   "source": [
    "### Set custom node and edge color "
   ]
  },
  {
   "cell_type": "code",
   "execution_count": 17,
   "id": "e69229f9-deda-4f8e-a58a-0460f6b73d4c",
   "metadata": {},
   "outputs": [
    {
     "name": "stdout",
     "output_type": "stream",
     "text": [
      "mil_graph.html\n"
     ]
    },
    {
     "data": {
      "text/html": [
       "\n",
       "        <iframe\n",
       "            width=\"1000px\"\n",
       "            height=\"700px\"\n",
       "            src=\"mil_graph.html\"\n",
       "            frameborder=\"0\"\n",
       "            allowfullscreen\n",
       "            \n",
       "        ></iframe>\n",
       "        "
      ],
      "text/plain": [
       "<IPython.lib.display.IFrame at 0x7f8ee2449dc0>"
      ]
     },
     "execution_count": 17,
     "metadata": {},
     "output_type": "execute_result"
    }
   ],
   "source": [
    "# Drop NaNs and convert to string\n",
    "df = df.dropna(subset=['Country', 'Origin'])  # Drop rows with NaNs\n",
    "df['Origin'] = df['Origin'].astype(str)\n",
    "df['Country'] = df['Country'].astype(str)\n",
    "\n",
    "# Create a directed graph\n",
    "mil_graph = nx.from_pandas_edgelist(df, source='Country', target='Origin', create_using=nx.DiGraph())\n",
    "\n",
    "# Define colors\n",
    "country_color = \"#00ccff\"   # light blue\n",
    "type_color = \"#ff9933\"      # orange\n",
    "edge_color = \"#aaaaaa\"      # grey\n",
    "\n",
    "# Assign node attributes\n",
    "for node in mil_graph.nodes():\n",
    "    mil_graph.nodes[node]['label'] = node\n",
    "    mil_graph.nodes[node]['size'] = 20\n",
    "    # Color countries and types differently\n",
    "    if node in df['Country'].unique():\n",
    "        mil_graph.nodes[node]['color'] = country_color\n",
    "    else:\n",
    "        mil_graph.nodes[node]['color'] = type_color\n",
    "\n",
    "# Assign edge colors\n",
    "for u, v in mil_graph.edges():\n",
    "    mil_graph[u][v]['color'] = edge_color\n",
    "    mil_graph[u][v]['width'] = 2\n",
    "\n",
    "# Setup PyVis network\n",
    "net = Network(\n",
    "    notebook=True,\n",
    "    height=\"700px\",\n",
    "    width=\"1000px\",\n",
    "    bgcolor=\"#222222\",\n",
    "    font_color=\"white\",\n",
    "    directed=True,\n",
    "    select_menu=True,\n",
    "    cdn_resources='remote',\n",
    "    filter_menu=True\n",
    ")\n",
    "\n",
    "\n",
    "# Load graph\n",
    "net.from_nx(mil_graph)\n",
    "\n",
    "# Save and view\n",
    "net.show('mil_graph.html')\n"
   ]
  },
  {
   "cell_type": "markdown",
   "id": "8c86dc75-4b17-4184-a74c-5f96889a274c",
   "metadata": {},
   "source": [
    "### Set custom node and edge shape "
   ]
  },
  {
   "cell_type": "code",
   "execution_count": 25,
   "id": "abecc314-ad11-4d18-8ec5-7d0394ca2d52",
   "metadata": {},
   "outputs": [
    {
     "name": "stdout",
     "output_type": "stream",
     "text": [
      "mil_graph.html\n"
     ]
    },
    {
     "data": {
      "text/html": [
       "\n",
       "        <iframe\n",
       "            width=\"1000px\"\n",
       "            height=\"700px\"\n",
       "            src=\"mil_graph.html\"\n",
       "            frameborder=\"0\"\n",
       "            allowfullscreen\n",
       "            \n",
       "        ></iframe>\n",
       "        "
      ],
      "text/plain": [
       "<IPython.lib.display.IFrame at 0x7f8ed08dcd60>"
      ]
     },
     "execution_count": 25,
     "metadata": {},
     "output_type": "execute_result"
    }
   ],
   "source": [
    "# Drop NaNs and convert to string\n",
    "df = df.dropna(subset=['Country', 'Origin'])  # Drop rows with NaNs\n",
    "df['Origin'] = df['Origin'].astype(str)\n",
    "df['Country'] = df['Country'].astype(str)\n",
    "\n",
    "# Create a directed graph\n",
    "mil_graph = nx.from_pandas_edgelist(df, source='Country', target='Origin', create_using=nx.DiGraph())\n",
    "\n",
    "# Define colors\n",
    "country_color = \"#00ccff\"   # light blue\n",
    "type_color = \"#ff9933\"      # orange\n",
    "edge_color = \"#aaaaaa\"      # grey\n",
    "\n",
    "# Assign node attributes with shapes\n",
    "for node in mil_graph.nodes():\n",
    "    mil_graph.nodes[node]['label'] = node\n",
    "    mil_graph.nodes[node]['size'] = 20\n",
    "    if node in df['Country'].unique():\n",
    "        mil_graph.nodes[node]['color'] = country_color\n",
    "        mil_graph.nodes[node]['shape'] = 'box'  # Country nodes as box\n",
    "    else:\n",
    "        mil_graph.nodes[node]['color'] = type_color\n",
    "        mil_graph.nodes[node]['shape'] = 'ellipse'  # Origin nodes as ellipse\n",
    "\n",
    "# Assign edge attributes\n",
    "for u, v in mil_graph.edges():\n",
    "    mil_graph[u][v]['color'] = edge_color\n",
    "    mil_graph[u][v]['width'] = 2\n",
    "\n",
    "\n",
    "\n",
    "# Setup PyVis network\n",
    "net = Network(\n",
    "    notebook=True,\n",
    "    height=\"700px\",\n",
    "    width=\"1000px\",\n",
    "    bgcolor=\"#222222\",\n",
    "    font_color=\"white\",\n",
    "    directed=True,\n",
    "    select_menu=True,\n",
    "    cdn_resources='remote',\n",
    "    filter_menu=True\n",
    ")\n",
    "\n",
    "\n",
    "# Load graph\n",
    "net.from_nx(mil_graph)\n",
    "\n",
    "# Save and view\n",
    "net.show('mil_graph.html')\n"
   ]
  },
  {
   "cell_type": "code",
   "execution_count": null,
   "id": "a4025f9e-417b-4fec-a2bd-32574a322190",
   "metadata": {},
   "outputs": [],
   "source": []
  }
 ],
 "metadata": {
  "kernelspec": {
   "display_name": "Python 3 (ipykernel)",
   "language": "python",
   "name": "python3"
  },
  "language_info": {
   "codemirror_mode": {
    "name": "ipython",
    "version": 3
   },
   "file_extension": ".py",
   "mimetype": "text/x-python",
   "name": "python",
   "nbconvert_exporter": "python",
   "pygments_lexer": "ipython3",
   "version": "3.9.7"
  }
 },
 "nbformat": 4,
 "nbformat_minor": 5
}
